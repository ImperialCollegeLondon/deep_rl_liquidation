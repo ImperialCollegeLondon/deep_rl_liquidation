{
 "cells": [
  {
   "cell_type": "code",
   "execution_count": 1,
   "metadata": {},
   "outputs": [
    {
     "data": {
      "text/html": [
       "<style>.container { width:100% !important; }</style>"
      ],
      "text/plain": [
       "<IPython.core.display.HTML object>"
      ]
     },
     "metadata": {},
     "output_type": "display_data"
    }
   ],
   "source": [
    "import torch\n",
    "import pickle\n",
    "import copy\n",
    "import re\n",
    "import pandas as pd\n",
    "import numpy as np\n",
    "import matplotlib\n",
    "import matplotlib.pyplot as plt\n",
    "import matplotlib.ticker as mtick\n",
    "from matplotlib.patches import Rectangle\n",
    "from IPython.display import display, HTML\n",
    "display(HTML(\"<style>.container { width:100% !important; }</style>\"))\n",
    "import matplotlib\n",
    "import sys\n",
    "sys.path.append(\"..\")\n",
    "from experiment.utils_experiment import * "
   ]
  },
  {
   "cell_type": "code",
   "execution_count": 2,
   "metadata": {},
   "outputs": [],
   "source": [
    "font = {'family' : 'serif',\n",
    "         'size'   : 12,\n",
    "         'serif':  'cmr10'\n",
    "         }\n",
    "\n",
    "matplotlib.rc('font', **font)\n",
    "plt.rcParams['axes.unicode_minus'] = False\n"
   ]
  },
  {
   "cell_type": "code",
   "execution_count": null,
   "metadata": {},
   "outputs": [],
   "source": [
    "# path with results\n",
    "file_path = \"/Users/melodiemonod/projects/2024/deep_rl_liquidation/online/\""
   ]
  },
  {
   "cell_type": "code",
   "execution_count": 3,
   "metadata": {},
   "outputs": [],
   "source": [
    "# Define a color palette\n",
    "color_optimal = \"#DD5746\" \n",
    "color_ddpg =\"#4793AF\""
   ]
  },
  {
   "cell_type": "code",
   "execution_count": 6,
   "metadata": {},
   "outputs": [],
   "source": [
    "# linear decrease\n",
    "job_name = \"experiment_2-exponential_decay_kernel_decrease\"\n",
    "output_path_ld = file_path + job_name + \"/\"\n",
    "\n",
    "# linear increase\n",
    "job_name = \"experiment_2-exponential_decay_kernel_increase\"\n",
    "output_path_li = file_path + job_name + \"/\""
   ]
  },
  {
   "cell_type": "code",
   "execution_count": 7,
   "metadata": {},
   "outputs": [],
   "source": [
    "env_simulation_ld = load_object(output_path_ld, \"environment\")\n",
    "episodes_ld = load_object(output_path_ld, \"episodes\")\n",
    "kernel_scales_ld = load_object(output_path_ld, \"kernel_scale\")\n",
    "kernel_decays_ld = load_object(output_path_ld, \"kernel_decay\")\n",
    "best_actions_ld = load_object(output_path_ld, \"best_actions\")\n",
    "best_total_reward_ld = load_object(output_path_ld, \"best_total_reward\")\n",
    "executed_actions_ld = load_object(output_path_ld, \"executed_actions\")\n",
    "executed_total_reward_ld = load_object(output_path_ld, \"executed_total_reward\")\n",
    "\n",
    "env_simulation_li = load_object(output_path_li, \"environment\")\n",
    "episodes_li = load_object(output_path_li, \"episodes\")\n",
    "kernel_scales_li = load_object(output_path_li, \"kernel_scale\")\n",
    "kernel_decays_li = load_object(output_path_li, \"kernel_decay\")\n",
    "best_actions_li = load_object(output_path_li, \"best_actions\")\n",
    "best_total_reward_li = load_object(output_path_li, \"best_total_reward\")\n",
    "executed_actions_li = load_object(output_path_li, \"executed_actions\")\n",
    "executed_total_reward_li = load_object(output_path_li, \"executed_total_reward\")"
   ]
  },
  {
   "cell_type": "code",
   "execution_count": 10,
   "metadata": {},
   "outputs": [],
   "source": [
    "# number of episodes\n",
    "n_episode = len(kernel_scales_ld)"
   ]
  },
  {
   "cell_type": "code",
   "execution_count": 11,
   "metadata": {},
   "outputs": [],
   "source": [
    "env_simulation_ld.termination_time = int(env_simulation_ld.observation_space[\"time\"].high[0] + 1)\n",
    "env_simulation_li.termination_time = int(env_simulation_li.observation_space[\"time\"].high[0] + 1)"
   ]
  },
  {
   "cell_type": "markdown",
   "metadata": {},
   "source": [
    "# Optimal strategy"
   ]
  },
  {
   "cell_type": "code",
   "execution_count": 12,
   "metadata": {},
   "outputs": [],
   "source": [
    "# THIS CELL CAN TAKE UP TO 20 MINUTES TO RUN\n",
    "\n",
    "# Reset kernel\n",
    "env_simulation_ld.kernel.reset_parameter()\n",
    "env_simulation_ld.kernel.reset_history()\n",
    "\n",
    "# Initialize lists to store results\n",
    "optimal_actions_list_ld = []\n",
    "optimal_total_reward_list_ld = []\n",
    "\n",
    "for episode in range(n_episode):\n",
    "        \n",
    "    episode += 1 # start episode at 0\n",
    "        \n",
    "    # kernel scale according to step function\n",
    "    if episode > 1:\n",
    "        env_simulation_ld.kernel.update()\n",
    "    \n",
    "    # store optimal actions and associated rewards\n",
    "    if episode in episodes_ld:\n",
    "        (\n",
    "            optimal_actions,\n",
    "            optimal_best_rewards,\n",
    "            optimal_total_reward,\n",
    "        ) = get_optimal_strategy(env_simulation_ld)\n",
    "        optimal_cumulative_rewards = np.cumsum(optimal_best_rewards)\n",
    "        optimal_actions_list_ld.append(optimal_actions)\n",
    "        optimal_total_reward_list_ld.append(optimal_total_reward)"
   ]
  },
  {
   "cell_type": "code",
   "execution_count": 13,
   "metadata": {},
   "outputs": [],
   "source": [
    "# THIS CELL CAN TAKE UP TO 20 MINUTES TO RUN\n",
    "\n",
    "# Reset kernel\n",
    "env_simulation_li.kernel.reset_parameter()\n",
    "env_simulation_li.kernel.reset_history()\n",
    "\n",
    "# Initialize lists to store results\n",
    "optimal_actions_list_li = []\n",
    "optimal_total_reward_list_li = []\n",
    "\n",
    "for episode in range(n_episode):\n",
    "        \n",
    "    episode += 1 # start episode at 0\n",
    "        \n",
    "    # kernel scale according to step function\n",
    "    if episode > 1:\n",
    "        env_simulation_li.kernel.update()\n",
    "    \n",
    "    # store optimal actions and associated rewards\n",
    "    if episode in episodes_li:\n",
    "        (\n",
    "            optimal_actions,\n",
    "            optimal_best_rewards,\n",
    "            optimal_total_reward,\n",
    "        ) = get_optimal_strategy(env_simulation_li)\n",
    "        optimal_cumulative_rewards = np.cumsum(optimal_best_rewards)\n",
    "        optimal_actions_list_li.append(optimal_actions)\n",
    "        optimal_total_reward_list_li.append(optimal_total_reward)"
   ]
  },
  {
   "cell_type": "markdown",
   "metadata": {},
   "source": [
    "# Data transformation"
   ]
  },
  {
   "cell_type": "code",
   "execution_count": 14,
   "metadata": {},
   "outputs": [],
   "source": [
    "# Number of replay\n",
    "n_replay = 1\n",
    "episodes_selected = episodes_li[::n_replay]\n",
    "\n",
    "# Convert best reward tensor to list\n",
    "best_total_reward_list_li = [tensor.item() for tensor in best_total_reward_li]\n",
    "executed_total_reward_list_li = [tensor.item() for tensor in executed_total_reward_li]\n",
    "\n",
    "best_total_reward_list_ld = [tensor.item() for tensor in best_total_reward_ld]\n",
    "executed_total_reward_list_ld = [tensor.item() for tensor in executed_total_reward_ld]\n",
    "\n",
    "# to array best reward\n",
    "best_total_reward_array_li = np.array(best_total_reward_list_li) \n",
    "executed_total_reward_array_li = np.array(executed_total_reward_list_li) \n",
    "\n",
    "best_total_reward_array_ld = np.array(best_total_reward_list_ld) \n",
    "executed_total_reward_array_ld = np.array(executed_total_reward_list_ld) \n",
    "\n",
    "# to array optimal reward\n",
    "optimal_total_reward_array_li = np.array(optimal_total_reward_list_li)\n",
    "optimal_total_reward_array_ld = np.array(optimal_total_reward_list_ld)\n",
    "\n",
    "# transform best action to pd\n",
    "pd_best_actions_li = pd.DataFrame([-x.numpy() for x in best_actions_li])\n",
    "pd_best_actions_ld = pd.DataFrame([-x.numpy() for x in best_actions_ld])\n",
    "\n",
    "# transform optimal action to pd\n",
    "pd_optimal_actions_li = pd.DataFrame([-np.array(x) for x in optimal_actions_list_li])\n",
    "pd_optimal_actions_ld = pd.DataFrame([-np.array(x) for x in optimal_actions_list_ld])"
   ]
  },
  {
   "cell_type": "code",
   "execution_count": 15,
   "metadata": {},
   "outputs": [],
   "source": [
    "# Find proportion relative to optimal strategy\n",
    "prop_reward_best_li = (best_total_reward_array_li - optimal_total_reward_array_li) / optimal_total_reward_array_li * 1e4\n",
    "prop_reward_best_ld = (best_total_reward_array_ld - optimal_total_reward_array_ld) / optimal_total_reward_array_ld * 1e4\n",
    "\n",
    "prop_reward_executed_li = (executed_total_reward_array_li - optimal_total_reward_array_li) / optimal_total_reward_array_li * 1e4\n",
    "prop_reward_executed_ld = (executed_total_reward_array_ld - optimal_total_reward_array_ld) / optimal_total_reward_array_ld * 1e4\n",
    "\n",
    "# cumulative rewards\n",
    "optimal_sum_total_reward_array_li = np.sum(optimal_total_reward_array_li)\n",
    "optimal_sum_total_reward_array_ld = np.sum(optimal_total_reward_array_ld)\n",
    "\n",
    "prop_cum_reward_best_li = (np.sum(best_total_reward_array_li) - optimal_sum_total_reward_array_li) / optimal_sum_total_reward_array_li * 1e4\n",
    "prop_cum_reward_best_ld = (np.sum(best_total_reward_array_ld) - optimal_sum_total_reward_array_ld) / optimal_sum_total_reward_array_ld * 1e4\n",
    "\n",
    "prop_cum_reward_executed_li = (np.sum(executed_total_reward_array_li) - optimal_sum_total_reward_array_li) / optimal_sum_total_reward_array_li * 1e4\n",
    "prop_cum_reward_executed_ld = (np.sum(executed_total_reward_array_ld) - optimal_sum_total_reward_array_ld) / optimal_sum_total_reward_array_ld * 1e4\n"
   ]
  },
  {
   "cell_type": "markdown",
   "metadata": {},
   "source": [
    "# Kernel Plot"
   ]
  },
  {
   "cell_type": "code",
   "execution_count": 16,
   "metadata": {},
   "outputs": [
    {
     "name": "stderr",
     "output_type": "stream",
     "text": [
      "/var/folders/f_/vxkztmj55t58xvh49q60z48w0000gn/T/ipykernel_7619/4001665754.py:5: UserWarning: cmr10 font should ideally be used with mathtext, set axes.formatter.use_mathtext to True\n",
      "  fig, axs = plt.subplots(1, 2, figsize=(6.5,2.3), sharey=True, sharex=True)\n"
     ]
    },
    {
     "data": {
      "image/png": "[encoded data removed]",
      "text/plain": [
       "<Figure size 650x230 with 2 Axes>"
      ]
     },
     "metadata": {},
     "output_type": "display_data"
    }
   ],
   "source": [
    "# Create an increasing x-axis representing wall time\n",
    "wall_time = np.arange(1, n_episode + 1)\n",
    "\n",
    "# Create a figure with two vertical subplots\n",
    "fig, axs = plt.subplots(1, 2, figsize=(6.5,2.3), sharey=True, sharex=True)\n",
    "\n",
    "# Linear decrease\n",
    "axs[0].plot(wall_time, env_simulation_ld.kernel.decay_history, color=\"black\")\n",
    "axs[0].set_xlabel('Episodes')\n",
    "axs[0].set_ylabel(\"Exponential kernel\\ndecay's parameter \" +  r\"($\\rho$)\", fontsize=12)\n",
    "axs[0].grid(True)\n",
    "\n",
    "# Linear increase\n",
    "axs[1].plot(wall_time, env_simulation_li.kernel.decay_history, color=\"black\")\n",
    "axs[1].set_xlabel('Episodes')\n",
    "axs[1].grid(True)\n",
    "#axs[1].set_ylabel('\\nb', color='white')\n",
    "#axs[1].set_ylabel('Decay parameter (rho)')\n",
    "\n",
    "# add title\n",
    "#plt.suptitle(\"Exponential kernel\\ndecay's parameter (rho)\", fontsize=18)\n",
    "\n",
    "# Show grid lines\n",
    "\n",
    "\n",
    "# Adjust layout\n",
    "plt.tight_layout()\n",
    "\n",
    "# Save\n",
    "plt.savefig(output_path_ld + \"online_experiment_kernel.png\", dpi=175)\n",
    "\n",
    "# Show the plot\n",
    "plt.show()\n"
   ]
  },
  {
   "cell_type": "markdown",
   "metadata": {},
   "source": [
    "# Reward plot"
   ]
  },
  {
   "cell_type": "code",
   "execution_count": 17,
   "metadata": {},
   "outputs": [
    {
     "name": "stderr",
     "output_type": "stream",
     "text": [
      "/var/folders/f_/vxkztmj55t58xvh49q60z48w0000gn/T/ipykernel_7619/1590390242.py:2: UserWarning: cmr10 font should ideally be used with mathtext, set axes.formatter.use_mathtext to True\n",
      "  fig, axs = plt.subplots(1, 2, figsize=(6.5,3), sharey=True, sharex=True)\n",
      "/var/folders/f_/vxkztmj55t58xvh49q60z48w0000gn/T/ipykernel_7619/1590390242.py:35: UserWarning: FigureCanvasAgg is non-interactive, and thus cannot be shown\n",
      "  fig.show()\n"
     ]
    },
    {
     "data": {
      "image/png": "[encoded data removed]",
      "text/plain": [
       "<Figure size 650x300 with 2 Axes>"
      ]
     },
     "metadata": {},
     "output_type": "display_data"
    }
   ],
   "source": [
    "# Create a figure with two vertical subplots\n",
    "fig, axs = plt.subplots(1, 2, figsize=(6.5,3), sharey=True, sharex=True)\n",
    "\n",
    "# Linear decrease\n",
    "axs[0].axhline(\n",
    "        y=0, color = color_optimal,  label=\"Optimal strategy\", linestyle=\"--\",linewidth = 2\n",
    "    )\n",
    "axs[0].plot(episodes_selected, prop_reward_best_ld, color=color_ddpg, label='DDPG optimal strategy')\n",
    "axs[0].plot(episodes_selected, prop_reward_executed_ld, color=color_ddpg, alpha = 0.2, label='DDPG executed strategy')\n",
    "axs[0].set_xlabel('Episodes')\n",
    "axs[0].set_ylabel('Episode reward\\nrelative to optimal strategy (bps)', fontsize=12)\n",
    "axs[0].legend(fancybox=False, shadow=False, frameon = False)\n",
    "\n",
    "# Linear increase\n",
    "axs[1].axhline(\n",
    "        y=0, color = color_optimal,  label=\"Optimal strategy\", linestyle=\"--\",linewidth = 2\n",
    "    )\n",
    "axs[1].plot(episodes_selected, prop_reward_best_li, color=color_ddpg, label='DDPG optimal strategy')\n",
    "axs[1].plot(episodes_selected, prop_reward_executed_li, color=color_ddpg, alpha = 0.2, label='DDPG executed strategy')\n",
    "axs[1].set_xlabel('Episodes')\n",
    "\n",
    "# add text\n",
    "# axs[0].text(x = 0, y = 0.5, s = \"Best reward: \" + str(round(prop_cum_reward_best_ld, 3)))\n",
    "# axs[0].text(x = 0, y = 1, s = \"Executed reward: \" + str(round(prop_cum_reward_executed_ld, 3)))\n",
    "\n",
    "# axs[1].text(x = 0, y = 0.5, s = \"Best reward: \" + str(round(prop_cum_reward_best_li, 3)))\n",
    "# axs[1].text(x = 0, y = 1, s = \"Executed reward: \" + str(round(prop_cum_reward_executed_li, 3)))\n",
    "\n",
    "fig.tight_layout()\n",
    "\n",
    "# save\n",
    "fig.savefig(output_path_ld + \"online_experiment_reward.png\",dpi=175)\n",
    "\n",
    "# Show the plot\n",
    "fig.show()"
   ]
  }
 ],
 "metadata": {
  "kernelspec": {
   "display_name": "deep_rl_liquidation",
   "language": "python",
   "name": "python3"
  },
  "language_info": {
   "codemirror_mode": {
    "name": "ipython",
    "version": 3
   },
   "file_extension": ".py",
   "mimetype": "text/x-python",
   "name": "python",
   "nbconvert_exporter": "python",
   "pygments_lexer": "ipython3",
   "version": "3.11.7"
  }
 },
 "nbformat": 4,
 "nbformat_minor": 2
}
